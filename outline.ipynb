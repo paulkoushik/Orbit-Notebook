{
 "cells": [
  {
   "cell_type": "markdown",
   "id": "50ed85c9",
   "metadata": {},
   "source": [
    "###  The de Brun Summer School - May 2024, University of Galway\n",
    "\n",
    "## Computational Group Theory\n",
    "\n",
    "Koushik Paul / Götz Pfeiffer - University of Galway"
   ]
  },
  {
   "cell_type": "markdown",
   "id": "7b96c041",
   "metadata": {},
   "source": [
    "<img alt=\"t-shirt\" src=\"images/shirtbfs.png\" align=\"center\" width=\"40%\" style=\"float:right\">\n",
    "\n",
    "# Outline\n",
    "\n",
    "## 1. Computing with [Permutation Groups](orbits.ipynb)\n",
    "\n",
    "* Algorithms: A Glimpse of CGT\n",
    "\n",
    "## 2. Computing with [Finite Coxeter Groups](coxeter.ipynb)\n",
    "\n",
    "* Orbits: Finite Coxeter Groups in Action\n",
    "\n",
    "## 3. Computing with [Complex Reflection Groups](enumerate.ipynb)\n",
    "\n",
    "* Cosets: Enumerating Complex Reflection Groups\n",
    "\n",
    "##  4. Computing with [Hecke Algebras](linear.ipynb)\n",
    "\n",
    "* Vectors: Enumerating Modules and Hecke Algebras"
   ]
  },
  {
   "cell_type": "markdown",
   "id": "f0d2e848",
   "metadata": {},
   "source": [
    "# Online\n",
    "\n",
    "* Find me on **github**: https://github.com/gpfeiffer/orbit-notebooks\n",
    "* Launch me on **binder**: https://mybinder.org/v2/gh/gpfeiffer/orbit-notebooks/main"
   ]
  },
  {
   "cell_type": "code",
   "execution_count": null,
   "id": "3c6a5beb",
   "metadata": {},
   "outputs": [],
   "source": []
  }
 ],
 "metadata": {
  "kernelspec": {
   "display_name": "GAP 4",
   "language": "gap",
   "name": "gap-4"
  },
  "language_info": {
   "codemirror_mode": "gap",
   "file_extension": ".g",
   "mimetype": "text/x-gap",
   "name": "GAP 4",
   "nbconvert_exporter": "",
   "pygments_lexer": "gap",
   "version": "4.12.2"
  }
 },
 "nbformat": 4,
 "nbformat_minor": 5
}
